{
 "cells": [
  {
   "cell_type": "code",
   "execution_count": 3,
   "metadata": {},
   "outputs": [],
   "source": [
    "### Write a python program that prints the following sentence in a single line, as it is"
   ]
  },
  {
   "cell_type": "code",
   "execution_count": 5,
   "metadata": {},
   "outputs": [
    {
     "name": "stdout",
     "output_type": "stream",
     "text": [
      "Raghav was minuting the meeting so that he doesn't miss out on the points discussed. He wrote down in his regular notebook that he always keeps in his backpack & later saves that on his computer in the path e:\\meetings\\notebook\\today\n"
     ]
    }
   ],
   "source": [
    "print ('Raghav was minuting the meeting so that he doesn\\'t miss out on the points discussed. He wrote down in his regular notebook that he always keeps in his backpack & later saves that on his computer in the path e:\\meetings\\\\notebook\\\\today')"
   ]
  },
  {
   "cell_type": "code",
   "execution_count": null,
   "metadata": {},
   "outputs": [],
   "source": [
    "#### Write a python program that takes user's name and year of birth as input and prints out the info as explained below.\n",
    "Example\n",
    "\n",
    "Input :\n",
    "\n",
    "- name, year of birth\n",
    "\n",
    "Output:\n",
    "\n",
    "\"Welcome Raghav, we have registered your year of birth as 1989.\n",
    "\n",
    " You are 31 years old now! \"\n",
    "\n",
    "\n"
   ]
  },
  {
   "cell_type": "code",
   "execution_count": 36,
   "metadata": {},
   "outputs": [
    {
     "name": "stdout",
     "output_type": "stream",
     "text": [
      "\"Welcome Raghav, we have registered your year of birth as 1989.\n",
      "\n",
      "You are 31 years old now! \"\n"
     ]
    }
   ],
   "source": [
    "name = 'Raghav'\n",
    "\n",
    "yob = 1989\n",
    "\n",
    "py = 2020\n",
    "\n",
    "age = (py - yob)\n",
    "\n",
    "print ('\"Welcome ' + name + ', we have registered your year of birth as ' + str (yob)+'.\\n\\nYou are ' + str(age)+' years old now! \"')"
   ]
  },
  {
   "cell_type": "code",
   "execution_count": 43,
   "metadata": {},
   "outputs": [
    {
     "name": "stdout",
     "output_type": "stream",
     "text": [
      "31\n",
      "Raghav\n"
     ]
    }
   ],
   "source": [
    "name = 'Raghav'\n",
    "\n",
    "yob = 1989\n",
    "\n",
    "py = 2020\n",
    "\n",
    "age = (py - yob)\n",
    "\n",
    "print (age)\n",
    "\n",
    "print (name)"
   ]
  },
  {
   "cell_type": "code",
   "execution_count": null,
   "metadata": {},
   "outputs": [],
   "source": []
  },
  {
   "cell_type": "code",
   "execution_count": null,
   "metadata": {},
   "outputs": [],
   "source": []
  },
  {
   "cell_type": "code",
   "execution_count": 50,
   "metadata": {},
   "outputs": [
    {
     "name": "stdout",
     "output_type": "stream",
     "text": [
      "\"Welcome Raghav, we have registered your year of birth as 1989.\n",
      "\n",
      " You are 31 years old now!\"\n"
     ]
    }
   ],
   "source": [
    "print ('\"Welcome {name}, we have registered your year of birth as {yob}.\\n\\n You are {age} years old now!\"'.format(name = 'Raghav' , yob = 1989, age=31))"
   ]
  },
  {
   "cell_type": "code",
   "execution_count": 52,
   "metadata": {},
   "outputs": [
    {
     "name": "stdout",
     "output_type": "stream",
     "text": [
      "31\n"
     ]
    }
   ],
   "source": [
    "name = 'Raghav'\n",
    "\n",
    "yob = 1989\n",
    "\n",
    "py = 2020\n",
    "\n",
    "age = (py - yob)\n",
    "\n",
    "print (age)"
   ]
  },
  {
   "cell_type": "code",
   "execution_count": 55,
   "metadata": {},
   "outputs": [
    {
     "name": "stdout",
     "output_type": "stream",
     "text": [
      "\"Welcome Raghav, we have registered your year of birth as 1989.\n",
      "\n",
      " You are 31 years old now!\"\n"
     ]
    }
   ],
   "source": [
    "print (f'\"Welcome {name}, we have registered your year of birth as {yob}.\\n\\n You are {age} years old now!\"')"
   ]
  },
  {
   "cell_type": "code",
   "execution_count": null,
   "metadata": {},
   "outputs": [],
   "source": [
    "### \n",
    "3. From the given sentence, form the expected sentence.\n",
    "Given Sentence:\n",
    "\n",
    "\"I started Python Programming today. The day is wonderful\"\n",
    "\n",
    "Expected Sentence:\n",
    "\n",
    "\"Python Programming is wonderful\"\n"
   ]
  },
  {
   "cell_type": "code",
   "execution_count": 98,
   "metadata": {},
   "outputs": [
    {
     "name": "stdout",
     "output_type": "stream",
     "text": [
      "Python Programming is wonderful\n"
     ]
    }
   ],
   "source": [
    "f = 'I started Python Programming today. The day is wonderful'\n",
    "f = f.split(' ')\n",
    "\n",
    "print(f[2] + ' ' + f[3] + ' ' + f[7] + ' ' + f[8])"
   ]
  },
  {
   "cell_type": "code",
   "execution_count": 87,
   "metadata": {},
   "outputs": [
    {
     "name": "stdout",
     "output_type": "stream",
     "text": [
      "I started Python Programming today. The day is wonderful\n"
     ]
    }
   ],
   "source": [
    "f = 'I started Python Programming today. The day is wonderful'\n",
    "\n",
    "f.count('t')\n",
    "\n",
    "print(f)"
   ]
  },
  {
   "cell_type": "code",
   "execution_count": 78,
   "metadata": {},
   "outputs": [
    {
     "data": {
      "text/plain": [
       "3"
      ]
     },
     "execution_count": 78,
     "metadata": {},
     "output_type": "execute_result"
    }
   ],
   "source": [
    "f.find('t')"
   ]
  },
  {
   "cell_type": "code",
   "execution_count": 83,
   "metadata": {},
   "outputs": [
    {
     "data": {
      "text/plain": [
       "b'I started Python Programming today. The day is wonderful'"
      ]
     },
     "execution_count": 83,
     "metadata": {},
     "output_type": "execute_result"
    }
   ],
   "source": [
    "f.encode()"
   ]
  },
  {
   "cell_type": "code",
   "execution_count": null,
   "metadata": {},
   "outputs": [],
   "source": [
    "### Input:\n",
    "\n",
    "User's name: 'RaGhaV'\n",
    "\n",
    "Outputs:\n",
    "\n",
    "Output 1: 'Welcome, raghav'\n",
    "Output 1: 'Hi, Raghav. Was it a Rainy Day?'\n",
    "Output 2: 'Hi, RAGHAV. Was it a Sunny Day?'\n",
    "Output 3: 'Hi, Buddy. Was it a great day?'\n",
    "\n",
    "Note:\n",
    "\n",
    "- User input shall be changed to lower case\n",
    "- The input is same for all the outputs\n",
    "- The outputs shall be from one next to another"
   ]
  },
  {
   "cell_type": "code",
   "execution_count": 18,
   "metadata": {},
   "outputs": [
    {
     "name": "stdout",
     "output_type": "stream",
     "text": [
      "Welcome, raghav\n",
      "Hi, Raghav. Was it a Rainy day?\n",
      "Hi, RAGHAV. Was it a Sunny day?\n",
      "Hi, Buddy. Was it a great day?\n",
      "raghav\n"
     ]
    }
   ],
   "source": [
    "a = 'Raghav'\n",
    "\n",
    "print ('Welcome,'+ ' ' + a.lower())\n",
    "print ('Hi,'+ ' ' + a.capitalize() + '. Was it a Rainy day?')\n",
    "print ('Hi,' + ' ' + a.upper() + '. Was it a Sunny day?')\n",
    "print ('Hi, Buddy. Was it a great day?')\n",
    "a= print (a.lower())"
   ]
  }
 ],
 "metadata": {
  "kernelspec": {
   "display_name": "Python 3",
   "language": "python",
   "name": "python3"
  },
  "language_info": {
   "codemirror_mode": {
    "name": "ipython",
    "version": 3
   },
   "file_extension": ".py",
   "mimetype": "text/x-python",
   "name": "python",
   "nbconvert_exporter": "python",
   "pygments_lexer": "ipython3",
   "version": "3.7.6"
  }
 },
 "nbformat": 4,
 "nbformat_minor": 4
}
