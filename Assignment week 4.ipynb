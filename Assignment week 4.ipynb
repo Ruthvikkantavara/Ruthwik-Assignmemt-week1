{
 "cells": [
  {
   "cell_type": "code",
   "execution_count": 2,
   "metadata": {},
   "outputs": [],
   "source": [
    "##1. Write a Python Program that takes user's age as input and informs him one of the following based on his age.\n",
    "##The user yet to get the Voter ID card\n",
    "##The user is eligible to vote\n",
    "## The user is not eligible yet to vote\n",
    "## The user is a senior citizen"
   ]
  },
  {
   "cell_type": "code",
   "execution_count": 19,
   "metadata": {},
   "outputs": [
    {
     "name": "stdout",
     "output_type": "stream",
     "text": [
      "Age : 61\n",
      "The user is senior citizen\n"
     ]
    }
   ],
   "source": [
    "a = int(input('Age : '))\n",
    "\n",
    "if a < 18:\n",
    "    print ('The user is not eligible yet to vote ')\n",
    "    \n",
    "elif a == 18:\n",
    "    print('The user yet to get the Voter ID card ')\n",
    "    \n",
    "elif a > 18 and a < 60:\n",
    "    print ('The user is eligible to vote')\n",
    "    \n",
    "elif a >= 60:\n",
    "    print('The user is senior citizen & eligible to vote')"
   ]
  },
  {
   "cell_type": "code",
   "execution_count": 20,
   "metadata": {},
   "outputs": [
    {
     "name": "stdout",
     "output_type": "stream",
     "text": [
      "Age : 17\n",
      "The user is not eligible yet to vote \n"
     ]
    }
   ],
   "source": [
    "a = int(input('Age : '))\n",
    "\n",
    "if a < 18:\n",
    "    print ('The user is not eligible yet to vote ')\n",
    "    \n",
    "elif a == 18:\n",
    "    print('The user yet to get the Voter ID card ')\n",
    "    \n",
    "elif a > 18 and a < 60:\n",
    "    print ('The user is eligible to vote')\n",
    "    \n",
    "elif a >= 60:\n",
    "    print('The user is senior citizen & eligible to vote')"
   ]
  },
  {
   "cell_type": "code",
   "execution_count": 22,
   "metadata": {},
   "outputs": [
    {
     "name": "stdout",
     "output_type": "stream",
     "text": [
      "Age : 18\n",
      "The user yet to get the Voter ID card & eligible to vote\n"
     ]
    }
   ],
   "source": [
    "a = int(input('Age : '))\n",
    "\n",
    "if a < 18:\n",
    "    print ('The user is not eligible yet to vote ')\n",
    "    \n",
    "elif a == 18:\n",
    "    print('The user yet to get the Voter ID card & eligible to vote')\n",
    "    \n",
    "elif a > 18 and a < 60:\n",
    "    print ('The user is eligible to vote')\n",
    "    \n",
    "elif a >= 60:\n",
    "    print('The user is senior citizen & eligible to vote')"
   ]
  },
  {
   "cell_type": "code",
   "execution_count": 23,
   "metadata": {},
   "outputs": [
    {
     "name": "stdout",
     "output_type": "stream",
     "text": [
      "Age : 59\n",
      "The user is eligible to vote\n"
     ]
    }
   ],
   "source": [
    "a = int(input('Age : '))\n",
    "\n",
    "if a < 18:\n",
    "    print ('The user is not eligible yet to vote ')\n",
    "    \n",
    "elif a == 18:\n",
    "    print('The user yet to get the Voter ID card & eligible to vote')\n",
    "    \n",
    "elif a > 18 and a < 60:\n",
    "    print ('The user is eligible to vote')\n",
    "    \n",
    "elif a >= 60:\n",
    "    print('The user is senior citizen & eligible to vote')"
   ]
  },
  {
   "cell_type": "code",
   "execution_count": null,
   "metadata": {},
   "outputs": [],
   "source": [
    "##Write a Python Program that return all the numbers between 1 and 50 that are divisible by '3' and '7'."
   ]
  },
  {
   "cell_type": "code",
   "execution_count": 24,
   "metadata": {},
   "outputs": [
    {
     "name": "stdout",
     "output_type": "stream",
     "text": [
      "21\n",
      "42\n"
     ]
    }
   ],
   "source": [
    "i = 1\n",
    "\n",
    "while i <= 50:\n",
    "    \n",
    "    if i % 3 == 0 and i % 7 ==0:\n",
    "        print(i)\n",
    "    i += 1"
   ]
  },
  {
   "cell_type": "code",
   "execution_count": 5,
   "metadata": {
    "scrolled": true
   },
   "outputs": [
    {
     "name": "stdout",
     "output_type": "stream",
     "text": [
      "Enter lower range limit :1\n",
      "Enter upper range limit :51\n",
      "Enter the number to be divide:3\n",
      "Enter the number to be divide:7\n",
      "21\n",
      "42\n"
     ]
    }
   ],
   "source": [
    "lower = int(input('Enter lower range limit :'))\n",
    "upper = int(input('Enter upper range limit :'))\n",
    "n = int(input('Enter the number to be divide:'))\n",
    "x = int(input('Enter the number to be divide:'))\n",
    "\n",
    "for i in range (lower,upper):\n",
    "    if i % n ==0 and i % x == 0:\n",
    "        print(i)"
   ]
  },
  {
   "cell_type": "code",
   "execution_count": null,
   "metadata": {},
   "outputs": [],
   "source": [
    "##3. Write a Python Program to create a list of numbers from 1 to 50 and calculate the sum of all the elements of the list."
   ]
  },
  {
   "cell_type": "code",
   "execution_count": 11,
   "metadata": {},
   "outputs": [
    {
     "name": "stdout",
     "output_type": "stream",
     "text": [
      "1275\n"
     ]
    }
   ],
   "source": [
    "def s1(n):\n",
    "    return (n*(n+1)) // 2\n",
    "print(s1(50))"
   ]
  },
  {
   "cell_type": "code",
   "execution_count": null,
   "metadata": {},
   "outputs": [],
   "source": [
    "def s1(n):\n",
    "    return (n*(n+1)) // 2"
   ]
  },
  {
   "cell_type": "code",
   "execution_count": 25,
   "metadata": {},
   "outputs": [
    {
     "data": {
      "text/plain": [
       "1275"
      ]
     },
     "execution_count": 25,
     "metadata": {},
     "output_type": "execute_result"
    }
   ],
   "source": [
    "s1(50)"
   ]
  },
  {
   "cell_type": "code",
   "execution_count": null,
   "metadata": {},
   "outputs": [],
   "source": [
    "\n",
    "##4. Write a Python Program that prints the numbers from 1 to 50 and displays \" (number) is divisible by 3 and 5\" for the numbers which are divisible by 3 and 5"
   ]
  },
  {
   "cell_type": "code",
   "execution_count": 21,
   "metadata": {},
   "outputs": [
    {
     "name": "stdout",
     "output_type": "stream",
     "text": [
      "1\n",
      "2\n",
      "3\n",
      "4\n",
      "5\n",
      "6\n",
      "7\n",
      "8\n",
      "9\n",
      "10\n",
      "11\n",
      "12\n",
      "13\n",
      "14\n",
      "15 is divisible by 3 and 5\n",
      "16\n",
      "17\n",
      "18\n",
      "19\n",
      "20\n",
      "21\n",
      "22\n",
      "23\n",
      "24\n",
      "25\n",
      "26\n",
      "27\n",
      "28\n",
      "29\n",
      "30 is divisible by 3 and 5\n",
      "31\n",
      "32\n",
      "33\n",
      "34\n",
      "35\n",
      "36\n",
      "37\n",
      "38\n",
      "39\n",
      "40\n",
      "41\n",
      "42\n",
      "43\n",
      "44\n",
      "45 is divisible by 3 and 5\n",
      "46\n",
      "47\n",
      "48\n",
      "49\n",
      "50\n"
     ]
    }
   ],
   "source": [
    "for x in range (1,51):\n",
    "    if x % 3 ==0 and x % 5 ==0:\n",
    "        print(f'{x} is divisible by 3 and 5')\n",
    "    else :\n",
    "        print(x)"
   ]
  },
  {
   "cell_type": "code",
   "execution_count": null,
   "metadata": {},
   "outputs": [],
   "source": [
    "##5. Write a Python Program that takes the input value of numerator and denominator, and handles Zero Division Error specifically\n",
    "Note: Other errors shall be handled in a general sense."
   ]
  },
  {
   "cell_type": "code",
   "execution_count": 24,
   "metadata": {},
   "outputs": [
    {
     "name": "stdout",
     "output_type": "stream",
     "text": [
      "Enter a:1\n",
      "Enter b:0\n",
      "Cannot divide anything by zero\n"
     ]
    }
   ],
   "source": [
    "try:\n",
    "\n",
    "    a = int(input('Enter a:'))\n",
    "    b = int(input('Enter b:'))\n",
    "    \n",
    "    print(a / b)\n",
    "    \n",
    "except ZeroDivisionError:\n",
    "    \n",
    "    print('Cannot divide anything by zero')\n",
    "    \n",
    "except:\n",
    "    print('Enter a valid input')"
   ]
  },
  {
   "cell_type": "code",
   "execution_count": null,
   "metadata": {},
   "outputs": [],
   "source": []
  }
 ],
 "metadata": {
  "kernelspec": {
   "display_name": "Python 3",
   "language": "python",
   "name": "python3"
  },
  "language_info": {
   "codemirror_mode": {
    "name": "ipython",
    "version": 3
   },
   "file_extension": ".py",
   "mimetype": "text/x-python",
   "name": "python",
   "nbconvert_exporter": "python",
   "pygments_lexer": "ipython3",
   "version": "3.7.6"
  }
 },
 "nbformat": 4,
 "nbformat_minor": 4
}
